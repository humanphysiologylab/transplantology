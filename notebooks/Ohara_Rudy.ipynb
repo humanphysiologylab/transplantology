{
 "cells": [
  {
   "cell_type": "code",
   "execution_count": 1,
   "metadata": {},
   "outputs": [],
   "source": [
    "import ctypes\n",
    "import os\n",
    "\n",
    "import numpy as np\n",
    "import pandas as pd\n",
    "\n",
    "import matplotlib.pyplot as plt\n",
    "import matplotlib\n",
    "matplotlib.rcParams['figure.facecolor'] = 'white'\n",
    "matplotlib.rcParams['savefig.dpi'] = 300\n",
    "\n",
    "from tqdm.auto import tqdm"
   ]
  },
  {
   "cell_type": "code",
   "execution_count": 2,
   "metadata": {},
   "outputs": [],
   "source": [
    "df_ill = pd.read_csv(\"../data/ill.csv\")\n",
    "df_normalized = pd.read_csv(\"../data/normalized.csv\")"
   ]
  },
  {
   "cell_type": "code",
   "execution_count": 3,
   "metadata": {},
   "outputs": [],
   "source": [
    "genes = ['KCNQ1', 'CACNA1C', 'SLC8A1', 'ATP1A1', 'ATP2B4', 'ATP2A2', 'CALM1', 'RYR2']\n",
    "currents = [\"GKs\", \"PCa\", \"Gncx\", \"Pnak\", \"GpCa\", \"upScale\", \"cmdnmax\", \"Jrel_scaling_factor\"]"
   ]
  },
  {
   "cell_type": "code",
   "execution_count": 4,
   "metadata": {},
   "outputs": [],
   "source": [
    "df = df_ill.loc[genes].copy()"
   ]
  },
  {
   "cell_type": "code",
   "execution_count": 5,
   "metadata": {},
   "outputs": [],
   "source": [
    "df.index = df.reset_index().iloc[:, 0].replace(dict(zip(genes, currents)))"
   ]
  },
  {
   "cell_type": "code",
   "execution_count": 6,
   "metadata": {},
   "outputs": [
    {
     "data": {
      "text/html": [
       "<div>\n",
       "<style scoped>\n",
       "    .dataframe tbody tr th:only-of-type {\n",
       "        vertical-align: middle;\n",
       "    }\n",
       "\n",
       "    .dataframe tbody tr th {\n",
       "        vertical-align: top;\n",
       "    }\n",
       "\n",
       "    .dataframe thead th {\n",
       "        text-align: right;\n",
       "    }\n",
       "</style>\n",
       "<table border=\"1\" class=\"dataframe\">\n",
       "  <thead>\n",
       "    <tr style=\"text-align: right;\">\n",
       "      <th></th>\n",
       "      <th>V1</th>\n",
       "      <th>V2</th>\n",
       "    </tr>\n",
       "    <tr>\n",
       "      <th>index</th>\n",
       "      <th></th>\n",
       "      <th></th>\n",
       "    </tr>\n",
       "  </thead>\n",
       "  <tbody>\n",
       "    <tr>\n",
       "      <th>GKs</th>\n",
       "      <td>1.135151</td>\n",
       "      <td>0.466996</td>\n",
       "    </tr>\n",
       "    <tr>\n",
       "      <th>PCa</th>\n",
       "      <td>0.689786</td>\n",
       "      <td>1.453437</td>\n",
       "    </tr>\n",
       "    <tr>\n",
       "      <th>Gncx</th>\n",
       "      <td>1.792116</td>\n",
       "      <td>0.822127</td>\n",
       "    </tr>\n",
       "    <tr>\n",
       "      <th>Pnak</th>\n",
       "      <td>0.554626</td>\n",
       "      <td>0.562787</td>\n",
       "    </tr>\n",
       "    <tr>\n",
       "      <th>GpCa</th>\n",
       "      <td>0.757819</td>\n",
       "      <td>1.163409</td>\n",
       "    </tr>\n",
       "    <tr>\n",
       "      <th>upScale</th>\n",
       "      <td>0.553460</td>\n",
       "      <td>0.450475</td>\n",
       "    </tr>\n",
       "    <tr>\n",
       "      <th>cmdnmax</th>\n",
       "      <td>0.773168</td>\n",
       "      <td>0.499590</td>\n",
       "    </tr>\n",
       "    <tr>\n",
       "      <th>Jrel_scaling_factor</th>\n",
       "      <td>0.502022</td>\n",
       "      <td>0.560491</td>\n",
       "    </tr>\n",
       "  </tbody>\n",
       "</table>\n",
       "</div>"
      ],
      "text/plain": [
       "                           V1        V2\n",
       "index                                  \n",
       "GKs                  1.135151  0.466996\n",
       "PCa                  0.689786  1.453437\n",
       "Gncx                 1.792116  0.822127\n",
       "Pnak                 0.554626  0.562787\n",
       "GpCa                 0.757819  1.163409\n",
       "upScale              0.553460  0.450475\n",
       "cmdnmax              0.773168  0.499590\n",
       "Jrel_scaling_factor  0.502022  0.560491"
      ]
     },
     "execution_count": 6,
     "metadata": {},
     "output_type": "execute_result"
    }
   ],
   "source": [
    "df"
   ]
  },
  {
   "cell_type": "markdown",
   "metadata": {},
   "source": [
    "# MAIN"
   ]
  },
  {
   "cell_type": "code",
   "execution_count": 7,
   "metadata": {},
   "outputs": [],
   "source": [
    "dirname = '../../ga/models_ctypes/src/model_ctypes/_ohara_rudy/'\n",
    "filename_so = os.path.join(dirname, 'model.so')\n",
    "\n",
    "filename_so_abs = os.path.abspath(filename_so)\n",
    "\n",
    "model = ctypes.CDLL(filename_so_abs)\n",
    "\n",
    "model.run.argtypes = [\n",
    "    np.ctypeslib.ndpointer(dtype=np.float64, ndim=1, flags='C_CONTIGUOUS'),\n",
    "    np.ctypeslib.ndpointer(dtype=np.float64, ndim=1, flags='C_CONTIGUOUS'),\n",
    "    ctypes.c_int,\n",
    "    ctypes.c_double,\n",
    "    ctypes.c_double,\n",
    "    np.ctypeslib.ndpointer(dtype=np.float64, ndim=2, flags='C_CONTIGUOUS')\n",
    "]\n",
    "model.run.restype = ctypes.c_int\n",
    "\n",
    "legend_constants = pd.read_csv(os.path.join(dirname, \"legend_constants.csv\"), index_col='name')['value']\n",
    "legend_states = pd.read_csv(os.path.join(dirname, \"legend_states.csv\"), index_col='name')['value']\n",
    "legend_algebraic = pd.read_csv(os.path.join(dirname, \"legend_algebraic.csv\"), index_col='name')"
   ]
  },
  {
   "cell_type": "code",
   "execution_count": 8,
   "metadata": {},
   "outputs": [
    {
     "data": {
      "text/html": [
       "<div>\n",
       "<style scoped>\n",
       "    .dataframe tbody tr th:only-of-type {\n",
       "        vertical-align: middle;\n",
       "    }\n",
       "\n",
       "    .dataframe tbody tr th {\n",
       "        vertical-align: top;\n",
       "    }\n",
       "\n",
       "    .dataframe thead th {\n",
       "        text-align: right;\n",
       "    }\n",
       "</style>\n",
       "<table border=\"1\" class=\"dataframe\">\n",
       "  <thead>\n",
       "    <tr style=\"text-align: right;\">\n",
       "      <th></th>\n",
       "      <th>V1</th>\n",
       "      <th>V2</th>\n",
       "      <th>original</th>\n",
       "    </tr>\n",
       "    <tr>\n",
       "      <th>index</th>\n",
       "      <th></th>\n",
       "      <th></th>\n",
       "      <th></th>\n",
       "    </tr>\n",
       "  </thead>\n",
       "  <tbody>\n",
       "    <tr>\n",
       "      <th>GKs</th>\n",
       "      <td>1.135151</td>\n",
       "      <td>0.466996</td>\n",
       "      <td>1.0</td>\n",
       "    </tr>\n",
       "    <tr>\n",
       "      <th>PCa</th>\n",
       "      <td>0.689786</td>\n",
       "      <td>1.453437</td>\n",
       "      <td>1.0</td>\n",
       "    </tr>\n",
       "    <tr>\n",
       "      <th>Gncx</th>\n",
       "      <td>1.792116</td>\n",
       "      <td>0.822127</td>\n",
       "      <td>1.0</td>\n",
       "    </tr>\n",
       "    <tr>\n",
       "      <th>Pnak</th>\n",
       "      <td>0.554626</td>\n",
       "      <td>0.562787</td>\n",
       "      <td>1.0</td>\n",
       "    </tr>\n",
       "    <tr>\n",
       "      <th>GpCa</th>\n",
       "      <td>0.757819</td>\n",
       "      <td>1.163409</td>\n",
       "      <td>1.0</td>\n",
       "    </tr>\n",
       "    <tr>\n",
       "      <th>upScale</th>\n",
       "      <td>0.553460</td>\n",
       "      <td>0.450475</td>\n",
       "      <td>1.0</td>\n",
       "    </tr>\n",
       "    <tr>\n",
       "      <th>cmdnmax</th>\n",
       "      <td>0.773168</td>\n",
       "      <td>0.499590</td>\n",
       "      <td>1.0</td>\n",
       "    </tr>\n",
       "    <tr>\n",
       "      <th>Jrel_scaling_factor</th>\n",
       "      <td>0.502022</td>\n",
       "      <td>0.560491</td>\n",
       "      <td>1.0</td>\n",
       "    </tr>\n",
       "  </tbody>\n",
       "</table>\n",
       "</div>"
      ],
      "text/plain": [
       "                           V1        V2  original\n",
       "index                                            \n",
       "GKs                  1.135151  0.466996       1.0\n",
       "PCa                  0.689786  1.453437       1.0\n",
       "Gncx                 1.792116  0.822127       1.0\n",
       "Pnak                 0.554626  0.562787       1.0\n",
       "GpCa                 0.757819  1.163409       1.0\n",
       "upScale              0.553460  0.450475       1.0\n",
       "cmdnmax              0.773168  0.499590       1.0\n",
       "Jrel_scaling_factor  0.502022  0.560491       1.0"
      ]
     },
     "execution_count": 8,
     "metadata": {},
     "output_type": "execute_result"
    }
   ],
   "source": [
    "df[\"original\"] = 1.\n",
    "df"
   ]
  },
  {
   "cell_type": "code",
   "execution_count": 9,
   "metadata": {},
   "outputs": [],
   "source": [
    "plos = {\"GK1\": 0.283,\n",
    "        \"GKr\": 1.,\n",
    "        \"GKs\": 0.14,\n",
    "        \"GNa\": 2.5,\n",
    "        \"Gto\": 9.7,\n",
    "        \"PCa\": 0.8,\n",
    "        \"Gncx\": 1.8,\n",
    "        \"Pnak\": 1.2,\n",
    "        \"GpCa\": 0.17,\n",
    "        \"upScale\": 2.23,\n",
    "        \"cmdnmax\": 3.76,\n",
    "        \"Jrel_scaling_factor\": 0.69,\n",
    "        # \"CAMK\": 0.21,\n",
    "        }"
   ]
  },
  {
   "cell_type": "code",
   "execution_count": 10,
   "metadata": {},
   "outputs": [],
   "source": [
    "def create_output(CL, n_beats, t_sampling, C, S):\n",
    "    \n",
    "    C['i_Stim_Period'] = CL\n",
    "    stim_period = C['i_Stim_Period']\n",
    "    n_samples_per_stim = int(stim_period / t_sampling)\n",
    "\n",
    "    output = pd.DataFrame(np.zeros((n_samples_per_stim * n_beats + 1, len(S))),\n",
    "                          columns=S.index)\n",
    "    \n",
    "    return output"
   ]
  },
  {
   "cell_type": "code",
   "execution_count": 11,
   "metadata": {},
   "outputs": [
    {
     "data": {
      "application/vnd.jupyter.widget-view+json": {
       "model_id": "6a0f04e7e75942e8a01cdf93f79aac94",
       "version_major": 2,
       "version_minor": 0
      },
      "text/plain": [
       "  0%|          | 0/3 [00:00<?, ?it/s]"
      ]
     },
     "metadata": {},
     "output_type": "display_data"
    }
   ],
   "source": [
    "results = dict()\n",
    "\n",
    "CL_list = 250, 20_000\n",
    "n_beats_list = 1000, 1\n",
    "\n",
    "tol = 1e-6\n",
    "t_sampling = 1\n",
    "\n",
    "for patient in tqdm(df.columns):\n",
    "    \n",
    "    S = legend_states.copy()\n",
    "    C = legend_constants.copy()\n",
    "    A = legend_algebraic.copy()\n",
    "    \n",
    "    for key, value in plos.items():\n",
    "        C[key] *= value\n",
    "    \n",
    "    for i, row in df.iterrows():\n",
    "        C[i] *= row[patient]\n",
    "        \n",
    "    C[\"GK1\"] *= 0.02\n",
    "        \n",
    "    C['i_Stim_Amplitude'] = -120\n",
    "    C['i_Stim_PulseDuration'] = 1\n",
    "    \n",
    "    results[patient] = list()\n",
    "    \n",
    "    for i, (CL, n_beats) in enumerate(zip(CL_list, n_beats_list)):\n",
    "        \n",
    "        if i != 0:\n",
    "            S = output.iloc[-1].copy()\n",
    "            \n",
    "        output = create_output(CL, n_beats, t_sampling, C, S)\n",
    "\n",
    "        status = model.run(S.values.copy(), C.values.copy(),\n",
    "                           n_beats, t_sampling, tol, output.values)\n",
    "\n",
    "        results[patient].append(output.copy())"
   ]
  },
  {
   "cell_type": "code",
   "execution_count": 12,
   "metadata": {},
   "outputs": [
    {
     "data": {
      "image/png": "[encoded data removed]",
      "text/plain": [
       "<Figure size 432x288 with 1 Axes>"
      ]
     },
     "metadata": {},
     "output_type": "display_data"
    }
   ],
   "source": [
    "indices = slice(-501, -1)\n",
    "key = 'v'\n",
    "\n",
    "i_output = 0\n",
    "\n",
    "for i, (patient, outputs) in enumerate(results.items()):\n",
    "    \n",
    "    output = outputs[i_output]\n",
    "    waveform = output[key].iloc[indices]\n",
    "    t = np.arange(len(output))[indices] / 1000\n",
    "    \n",
    "    plt.plot(t, waveform, label=patient)\n",
    "        \n",
    "plt.legend()\n",
    "plt.xlabel(\"time, s\")\n",
    "plt.ylabel(\"V, mV\")\n",
    "\n",
    "plt.savefig(\"../images/fig_1.png\")"
   ]
  },
  {
   "cell_type": "code",
   "execution_count": 13,
   "metadata": {},
   "outputs": [
    {
     "data": {
      "image/png": "[encoded data removed]",
      "text/plain": [
       "<Figure size 432x288 with 1 Axes>"
      ]
     },
     "metadata": {},
     "output_type": "display_data"
    }
   ],
   "source": [
    "indices = slice(0, -1)\n",
    "key = 'v'\n",
    "\n",
    "i_output = 1\n",
    "\n",
    "for i, (patient, outputs) in enumerate(results.items()):\n",
    "    \n",
    "    output = outputs[i_output]\n",
    "    waveform = output[key].iloc[indices]\n",
    "    t = np.arange(len(output))[indices] / 1000\n",
    "    \n",
    "    plt.plot(t, waveform, label=patient)\n",
    "        \n",
    "plt.legend()\n",
    "plt.xlabel(\"time, s\")\n",
    "plt.ylabel(\"V, mV\")\n",
    "\n",
    "plt.savefig(\"../images/fig_2.png\")"
   ]
  },
  {
   "cell_type": "code",
   "execution_count": 14,
   "metadata": {},
   "outputs": [
    {
     "data": {
      "image/png": "[encoded data removed]",
      "text/plain": [
       "<Figure size 432x288 with 1 Axes>"
      ]
     },
     "metadata": {},
     "output_type": "display_data"
    }
   ],
   "source": [
    "indices = slice(0, 501)\n",
    "key = 'v'\n",
    "\n",
    "i_output = 1\n",
    "\n",
    "for i, (patient, outputs) in enumerate(results.items()):\n",
    "    \n",
    "    output = outputs[i_output]\n",
    "    waveform = output[key].iloc[indices]\n",
    "    t = np.arange(len(output))[indices] / 1000\n",
    "    \n",
    "    plt.plot(t, waveform, label=patient)\n",
    "        \n",
    "plt.legend()\n",
    "plt.xlabel(\"time, s\")\n",
    "plt.ylabel(\"V, mV\")\n",
    "\n",
    "plt.savefig(\"../images/fig_3.png\")"
   ]
  },
  {
   "cell_type": "code",
   "execution_count": null,
   "metadata": {},
   "outputs": [],
   "source": []
  }
 ],
 "metadata": {
  "kernelspec": {
   "display_name": "py3.8_hpl",
   "language": "python",
   "name": "py3.8_hpl"
  },
  "language_info": {
   "codemirror_mode": {
    "name": "ipython",
    "version": 3
   },
   "file_extension": ".py",
   "mimetype": "text/x-python",
   "name": "python",
   "nbconvert_exporter": "python",
   "pygments_lexer": "ipython3",
   "version": "3.8.6"
  }
 },
 "nbformat": 4,
 "nbformat_minor": 4
}
